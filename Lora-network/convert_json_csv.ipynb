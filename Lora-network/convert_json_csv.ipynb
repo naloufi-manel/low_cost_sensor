{
  "cells": [
    {
      "cell_type": "markdown",
      "metadata": {
        "id": "i-pBUwuDTvgS"
      },
      "source": [
        "Please note that all files must have the same format.\n",
        "\n",
        "---\n",
        "\n"
      ]
    },
    {
      "cell_type": "code",
      "execution_count": null,
      "metadata": {
        "id": "JgZPM7Fbvkpf"
      },
      "outputs": [],
      "source": [
        "!rm -rf <data_csv>"
      ]
    },
    {
      "cell_type": "code",
      "execution_count": null,
      "metadata": {
        "id": "8aoM9eusxNHE"
      },
      "outputs": [],
      "source": [
        "from google.colab import files\n",
        "F = files.upload()"
      ]
    },
    {
      "cell_type": "code",
      "execution_count": null,
      "metadata": {
        "id": "pTasM8LSSRzy"
      },
      "outputs": [],
      "source": [
        "# import required module\n",
        "import os\n",
        "import re\n",
        "import pandas as pd\n",
        "\n",
        "if not os.path.exists(\"/content/data_csv\"):\n",
        "  os.mkdir(\"/content/data_csv\")\n",
        "# assign directory\n",
        "directory = '/content'\n",
        "\n",
        "# iterate over files in\n",
        "# that directory\n",
        "for filename in os.listdir(directory):\n",
        "\tf = os.path.join(filename)\n",
        "\t# checking if it is a file\n",
        "\tif os.path.isfile(f):\n",
        "\t\tprint(f)\n"
      ]
    },
    {
      "cell_type": "code",
      "execution_count": null,
      "metadata": {
        "id": "pK0QkGKsSl9U"
      },
      "outputs": [],
      "source": [
        "\n",
        "\n",
        "for filename in os.listdir(directory):\n",
        "  f = os.path.join(filename)\n",
        "  if os.path.isfile(f):\n",
        "     ## empty dico creation\n",
        "    dico={}\n",
        "    dico_seq={}\n",
        "\n",
        "    ##open fasta file before using loop for dico filling\n",
        "    F=open(f, 'r')\n",
        "\n",
        "     ## j is a counter for the dico containing all sequences\n",
        "    j=0\n",
        "    for i in F:\n",
        "        clean = i.strip() ## eleminer les /n situ à la fin de la sequence\n",
        "        i = re.sub(r\"\\s+\", \" \", i)\n",
        "\n",
        "        if \"received_at\" in i :\n",
        "          x=i\n",
        "          x=x.replace('\"received_at\": \"','')\n",
        "          x=x.replace('\",','')\n",
        "          dico={}\n",
        "          dico['date']=x\n",
        "\n",
        "        if \"device_id\" in i :\n",
        "          x=i\n",
        "          x=x.replace('\"device_id\": \"','')\n",
        "          x=x.replace('\"','')\n",
        "          dico['id']=x\n",
        "\n",
        "        if \"do1\" in i :\n",
        "          x=i\n",
        "          x=x.replace('\"do1\":','')\n",
        "          x=x.replace(',','')\n",
        "          dico['do1']=x\n",
        "        if \"do2\" in i :\n",
        "          x=i\n",
        "          x=x.replace('\"do2\":','')\n",
        "          x=x.replace(',','')\n",
        "          dico['do2']=x\n",
        "\n",
        "        if \"ec\" in i :\n",
        "          x=i\n",
        "          x=x.replace('\"ec\":','')\n",
        "          x=x.replace(',','')\n",
        "          dico['ec']=x\n",
        "\n",
        "\n",
        "        if \"ph\" in i :\n",
        "          x=i\n",
        "          x=x.replace('\"ph\":','')\n",
        "          x=x.replace(',','')\n",
        "          dico['ph']=x\n",
        "\n",
        "        if 'temp\"' in i :\n",
        "          x=i\n",
        "          x=x.replace('\"temp\":','')\n",
        "          x=x.replace(',','')\n",
        "          dico['temp']=x\n",
        "\n",
        "        if \"tempbox\" in i :\n",
        "          x=i\n",
        "          x=x.replace('\"tempbox\":','')\n",
        "          x=x.replace(',','')\n",
        "          dico['tempbox']=x\n",
        "\n",
        "        if \"turb\" in i :\n",
        "          x=i\n",
        "          x=x.replace('\"turb\":','')\n",
        "          dico['turb']=x\n",
        "          #flag=False\n",
        "          dico_seq[j]=dico\n",
        "          j=j+1\n",
        "\n",
        "    F.close()\n",
        "\n",
        "    data = pd.DataFrame(dico_seq)\n",
        "    df=data.T\n",
        "\n",
        "    df.to_csv(\"/content/data_csv/\"+f+'.csv', sep='\\t')"
      ]
    },
    {
      "cell_type": "code",
      "execution_count": null,
      "metadata": {
        "id": "H8mqJ24yHTmX"
      },
      "outputs": [],
      "source": [
        "all_filenames"
      ]
    },
    {
      "cell_type": "code",
      "execution_count": null,
      "metadata": {
        "id": "43KoRYViEiCE"
      },
      "outputs": [],
      "source": [
        "import glob\n",
        "os.chdir(\"/content/data_csv\")\n",
        "\n",
        "\n",
        "extension = 'csv'\n",
        "all_filenames = [i for i in glob.glob('*.{}'.format(extension))]\n",
        "\n",
        "\n",
        "#combiner tous les fichiers de la liste\n",
        "combined_csv = pd.concat([pd.read_csv(f) for f in all_filenames])\n",
        "\n",
        "#export to csv\n",
        "combined_csv.to_csv( \"combined_csv.csv\", index=False, encoding='utf-8-sig')\n",
        "#combined_csv"
      ]
    },
    {
      "cell_type": "code",
      "execution_count": null,
      "metadata": {
        "id": "0fY7pLAggxHM"
      },
      "outputs": [],
      "source": [
        "combined_csv.columns"
      ]
    },
    {
      "cell_type": "code",
      "execution_count": null,
      "metadata": {
        "id": "8-H-PZHjErd6"
      },
      "outputs": [],
      "source": [
        "pd.read_csv('combined_csv.csv',sep=\"\\t\")\n",
        "data = pd.read_csv(\"combined_csv.csv\", sep=\"\\t\")\n",
        "data=data.drop(columns=data.columns[0],axis=1)\n",
        "data=data.sort_values([\"date\"],axis=0)\n",
        "data"
      ]
    },
    {
      "cell_type": "code",
      "execution_count": null,
      "metadata": {
        "id": "YaT4RYRV5yYt"
      },
      "outputs": [],
      "source": [
        "data['date']=pd.to_datetime(data['date'])"
      ]
    },
    {
      "cell_type": "code",
      "execution_count": null,
      "metadata": {
        "id": "ARtj0IeTHd5O"
      },
      "outputs": [],
      "source": [
        "dat=pd.to_datetime(data.date).dt.strftime('%Y-%m-%d %H:%M:%S')\n",
        "day=pd.to_datetime(data.date).dt.date\n",
        "time=pd.to_datetime(data.date).dt.strftime('%H:%M')\n",
        "data.insert(1,\"day\",day,True)\n",
        "data.insert(2,\"time\",time,True)\n",
        "data.date=dat"
      ]
    },
    {
      "cell_type": "code",
      "execution_count": null,
      "metadata": {
        "id": "J3H_XCDpu84G"
      },
      "outputs": [],
      "source": [
        "data.to_csv( \"data.csv\", index=False, encoding='utf-8-sig')"
      ]
    },
    {
      "cell_type": "code",
      "execution_count": null,
      "metadata": {
        "id": "90aY_Y7NvCMk"
      },
      "outputs": [],
      "source": [
        "data.columns"
      ]
    },
    {
      "cell_type": "code",
      "execution_count": null,
      "metadata": {
        "id": "c-pozwm4p75E"
      },
      "outputs": [],
      "source": [
        "with open('data.csv','r') as in_file, open('finale.csv','w') as out_file:\n",
        "    seen = set()\n",
        "    for line in in_file:\n",
        "        if line in seen: continue\n",
        "\n",
        "        seen.add(line)\n",
        "        out_file.write(line)"
      ]
    },
    {
      "cell_type": "code",
      "execution_count": null,
      "metadata": {
        "id": "WZ2pn_eYgHUJ"
      },
      "outputs": [],
      "source": [
        "pd.read_csv('finale.csv',sep=\"\\t\")"
      ]
    }
  ],
  "metadata": {
    "colab": {
      "provenance": []
    },
    "kernelspec": {
      "display_name": "Python 3",
      "name": "python3"
    },
    "language_info": {
      "name": "python"
    }
  },
  "nbformat": 4,
  "nbformat_minor": 0
}